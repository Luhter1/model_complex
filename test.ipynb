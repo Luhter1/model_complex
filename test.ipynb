{
 "cells": [
  {
   "cell_type": "code",
   "execution_count": 2,
   "metadata": {},
   "outputs": [],
   "source": [
    "from model_complex import Calibration\n",
    "import matplotlib.pyplot as plt\n",
    "\n",
    "\n",
    "d = Calibration('age-group', 100)"
   ]
  },
  {
   "cell_type": "code",
   "execution_count": 10,
   "metadata": {},
   "outputs": [
    {
     "data": {
      "image/png": "[encoded data removed]",
      "text/plain": [
       "<Figure size 600x500 with 1 Axes>"
      ]
     },
     "metadata": {},
     "output_type": "display_data"
    }
   ],
   "source": [
    "d.plot('spb', './', '7-01-2018', '6-20-2019')"
   ]
  },
  {
   "cell_type": "code",
   "execution_count": 3,
   "metadata": {},
   "outputs": [
    {
     "data": {
      "text/plain": [
       "['strain_A(H1N1)pdm09_age_0-14_cases',\n",
       " 'strain_A(H3N2)_age_0-14_cases',\n",
       " 'strain_B_age_0-14_cases',\n",
       " 'population_age_0-14',\n",
       " 'strain_A(H1N1)pdm09_age_15+_cases',\n",
       " 'strain_A(H3N2)_age_15+_cases',\n",
       " 'strain_B_age_15+_cases',\n",
       " 'population_age_15+',\n",
       " 'total',\n",
       " 'date']"
      ]
     },
     "execution_count": 3,
     "metadata": {},
     "output_type": "execute_result"
    }
   ],
   "source": [
    "list(epid)"
   ]
  },
  {
   "cell_type": "code",
   "execution_count": 2,
   "metadata": {},
   "outputs": [
    {
     "name": "stdout",
     "output_type": "stream",
     "text": [
      "     strain_A(H1N1)pdm09_age_0-14_cases  strain_A(H3N2)_age_0-14_cases  \\\n",
      "441                                 0.0                            0.0   \n",
      "442                                 0.0                            0.0   \n",
      "443                                 0.0                            0.0   \n",
      "444                               275.0                            0.0   \n",
      "445                                 0.0                            0.0   \n",
      "446                                 0.0                            0.0   \n",
      "447                                 0.0                            0.0   \n",
      "448                                 0.0                            0.0   \n",
      "449                                 0.0                            0.0   \n",
      "450                                 0.0                            0.0   \n",
      "451                                 0.0                            0.0   \n",
      "452                                 0.0                            0.0   \n",
      "453                                 0.0                            0.0   \n",
      "454                                 0.0                            0.0   \n",
      "455                                 0.0                            0.0   \n",
      "456                                 0.0                            0.0   \n",
      "457                                 0.0                            0.0   \n",
      "458                               452.0                            0.0   \n",
      "459                               407.0                            0.0   \n",
      "460                                 0.0                            0.0   \n",
      "461                                 0.0                            0.0   \n",
      "462                                 0.0                            0.0   \n",
      "463                               872.0                            0.0   \n",
      "464                               613.0                            0.0   \n",
      "465                              1073.0                            0.0   \n",
      "466                              1583.0                            0.0   \n",
      "467                              3599.0                            0.0   \n",
      "468                             10610.0                            0.0   \n",
      "469                              3506.0                          792.0   \n",
      "470                              8407.0                          988.0   \n",
      "471                              7220.0                         2174.0   \n",
      "472                              7420.0                         4411.0   \n",
      "473                             11546.0                         5727.0   \n",
      "474                             10934.0                         5115.0   \n",
      "475                              8483.0                         6750.0   \n",
      "476                              6092.0                         6924.0   \n",
      "477                              2778.0                         4735.0   \n",
      "478                              3032.0                         5351.0   \n",
      "479                              2250.0                         5490.0   \n",
      "480                              1791.0                         4282.0   \n",
      "481                              1589.0                         4105.0   \n",
      "482                              1254.0                         1880.0   \n",
      "483                              1427.0                         1546.0   \n",
      "484                                 0.0                         1485.0   \n",
      "485                               237.0                         1418.0   \n",
      "486                                 0.0                          673.0   \n",
      "487                               375.0                          375.0   \n",
      "488                               476.0                          476.0   \n",
      "489                                55.0                          167.0   \n",
      "490                                 0.0                          582.0   \n",
      "491                                 0.0                          278.0   \n",
      "492                               321.0                            0.0   \n",
      "\n",
      "     strain_B_age_0-14_cases  population_age_0-14  \\\n",
      "441                      0.0             754717.0   \n",
      "442                      0.0             754717.0   \n",
      "443                      0.0             754717.0   \n",
      "444                      0.0             754717.0   \n",
      "445                      0.0             754717.0   \n",
      "446                      0.0             754717.0   \n",
      "447                      0.0             754717.0   \n",
      "448                      0.0             754717.0   \n",
      "449                    167.0             754717.0   \n",
      "450                      0.0             754717.0   \n",
      "451                      0.0             754717.0   \n",
      "452                      0.0             754717.0   \n",
      "453                      0.0             754717.0   \n",
      "454                      0.0             754717.0   \n",
      "455                      0.0             754717.0   \n",
      "456                      0.0             754717.0   \n",
      "457                      0.0             754717.0   \n",
      "458                      0.0             754717.0   \n",
      "459                      0.0             754717.0   \n",
      "460                      0.0             754717.0   \n",
      "461                      0.0             754717.0   \n",
      "462                      0.0             754717.0   \n",
      "463                      0.0             754717.0   \n",
      "464                      0.0             754717.0   \n",
      "465                      0.0             754717.0   \n",
      "466                      0.0             754717.0   \n",
      "467                      0.0             754717.0   \n",
      "468                      0.0             754717.0   \n",
      "469                      0.0             784655.0   \n",
      "470                      0.0             784655.0   \n",
      "471                      0.0             784655.0   \n",
      "472                     63.0             784655.0   \n",
      "473                      0.0             784655.0   \n",
      "474                      0.0             784655.0   \n",
      "475                      0.0             784655.0   \n",
      "476                      0.0             784655.0   \n",
      "477                      0.0             784655.0   \n",
      "478                     64.0             784655.0   \n",
      "479                     90.0             784655.0   \n",
      "480                     78.0             784655.0   \n",
      "481                      0.0             784655.0   \n",
      "482                    104.0             784655.0   \n",
      "483                    330.0             784655.0   \n",
      "484                    270.0             784655.0   \n",
      "485                    472.0             784655.0   \n",
      "486                      0.0             784655.0   \n",
      "487                      0.0             784655.0   \n",
      "488                    476.0             784655.0   \n",
      "489                    668.0             784655.0   \n",
      "490                    291.0             784655.0   \n",
      "491                    557.0             784655.0   \n",
      "492                      0.0             784655.0   \n",
      "\n",
      "     strain_A(H1N1)pdm09_age_15+_cases  strain_A(H3N2)_age_15+_cases  \\\n",
      "441                                0.0                           0.0   \n",
      "442                                0.0                           0.0   \n",
      "443                                0.0                           0.0   \n",
      "444                              390.0                           0.0   \n",
      "445                                0.0                           0.0   \n",
      "446                                0.0                           0.0   \n",
      "447                                0.0                           0.0   \n",
      "448                                0.0                           0.0   \n",
      "449                                0.0                           0.0   \n",
      "450                                0.0                           0.0   \n",
      "451                                0.0                           0.0   \n",
      "452                                0.0                           0.0   \n",
      "453                                0.0                           0.0   \n",
      "454                                0.0                           0.0   \n",
      "455                                0.0                           0.0   \n",
      "456                                0.0                           0.0   \n",
      "457                                0.0                           0.0   \n",
      "458                              309.0                           0.0   \n",
      "459                              283.0                           0.0   \n",
      "460                                0.0                           0.0   \n",
      "461                                0.0                           0.0   \n",
      "462                                0.0                           0.0   \n",
      "463                              590.0                           0.0   \n",
      "464                              424.0                           0.0   \n",
      "465                              713.0                           0.0   \n",
      "466                             1061.0                           0.0   \n",
      "467                             2399.0                           0.0   \n",
      "468                             8201.0                           0.0   \n",
      "469                             1134.0                         256.0   \n",
      "470                             5203.0                         613.0   \n",
      "471                             6272.0                        1888.0   \n",
      "472                             5464.0                        3247.0   \n",
      "473                             8270.0                        4101.0   \n",
      "474                             7607.0                        3562.0   \n",
      "475                             5819.0                        4634.0   \n",
      "476                             4362.0                        4956.0   \n",
      "477                             1947.0                        3319.0   \n",
      "478                             2078.0                        3668.0   \n",
      "479                             1546.0                        3772.0   \n",
      "480                             1274.0                        3048.0   \n",
      "481                             1206.0                        3117.0   \n",
      "482                              950.0                        1425.0   \n",
      "483                             1101.0                        1192.0   \n",
      "484                                0.0                        1159.0   \n",
      "485                              173.0                        1037.0   \n",
      "486                                0.0                         408.0   \n",
      "487                              253.0                         253.0   \n",
      "488                              418.0                         418.0   \n",
      "489                               52.0                         156.0   \n",
      "490                                0.0                         563.0   \n",
      "491                                0.0                         297.0   \n",
      "492                              320.0                           0.0   \n",
      "\n",
      "     strain_B_age_15+_cases  population_age_15+  total       date  \n",
      "441                     0.0           4526862.0      0 2018-07-01  \n",
      "442                     0.0           4526862.0      0 2018-07-08  \n",
      "443                     0.0           4526862.0      0 2018-07-15  \n",
      "444                     0.0           4526862.0    665 2018-07-22  \n",
      "445                     0.0           4526862.0      0 2018-07-29  \n",
      "446                     0.0           4526862.0      0 2018-08-05  \n",
      "447                     0.0           4526862.0      0 2018-08-12  \n",
      "448                     0.0           4526862.0      0 2018-08-19  \n",
      "449                   178.0           4526862.0    345 2018-08-26  \n",
      "450                     0.0           4526862.0      0 2018-09-02  \n",
      "451                     0.0           4526862.0      0 2018-09-09  \n",
      "452                     0.0           4526862.0      0 2018-09-16  \n",
      "453                     0.0           4526862.0      0 2018-09-23  \n",
      "454                     0.0           4526862.0      0 2018-09-30  \n",
      "455                     0.0           4526862.0      0 2018-10-07  \n",
      "456                     0.0           4526862.0      0 2018-10-14  \n",
      "457                     0.0           4526862.0      0 2018-10-21  \n",
      "458                     0.0           4526862.0    761 2018-10-28  \n",
      "459                     0.0           4526862.0    690 2018-11-04  \n",
      "460                     0.0           4526862.0      0 2018-11-11  \n",
      "461                     0.0           4526862.0      0 2018-11-18  \n",
      "462                     0.0           4526862.0      0 2018-11-25  \n",
      "463                     0.0           4526862.0   1462 2018-12-02  \n",
      "464                     0.0           4526862.0   1037 2018-12-09  \n",
      "465                     0.0           4526862.0   1786 2018-12-16  \n",
      "466                     0.0           4526862.0   2644 2018-12-23  \n",
      "467                     0.0           4526862.0   5998 2018-12-30  \n",
      "468                     0.0           4526862.0  18811 2019-01-06  \n",
      "469                     0.0           4567280.0   5688 2019-01-13  \n",
      "470                     0.0           4567280.0  15211 2019-01-20  \n",
      "471                     0.0           4567280.0  17554 2019-01-27  \n",
      "472                    46.0           4567280.0  20651 2019-02-03  \n",
      "473                     0.0           4567280.0  29644 2019-02-10  \n",
      "474                     0.0           4567280.0  27218 2019-02-17  \n",
      "475                     0.0           4567280.0  25686 2019-02-24  \n",
      "476                     0.0           4567280.0  22334 2019-03-03  \n",
      "477                     0.0           4567280.0  12779 2019-03-10  \n",
      "478                    44.0           4567280.0  14237 2019-03-17  \n",
      "479                    62.0           4567280.0  13210 2019-03-24  \n",
      "480                    55.0           4567280.0  10528 2019-03-31  \n",
      "481                     0.0           4567280.0  10017 2019-04-07  \n",
      "482                    79.0           4567280.0   5692 2019-04-14  \n",
      "483                   255.0           4567280.0   5851 2019-04-21  \n",
      "484                   211.0           4567280.0   3125 2019-04-28  \n",
      "485                   346.0           4567280.0   3683 2019-05-05  \n",
      "486                     0.0           4567280.0   1081 2019-05-12  \n",
      "487                     0.0           4567280.0   1256 2019-05-19  \n",
      "488                   418.0           4567280.0   2682 2019-05-26  \n",
      "489                   624.0           4567280.0   1722 2019-06-02  \n",
      "490                   281.0           4567280.0   1717 2019-06-09  \n",
      "491                   594.0           4567280.0   1726 2019-06-16  \n",
      "492                     0.0           4567280.0    641 2019-06-23  \n"
     ]
    }
   ],
   "source": [
    "epid, simulation_func, data = d.calibrate('spb', './', '7-01-2018', '6-20-2019')"
   ]
  },
  {
   "cell_type": "code",
   "execution_count": 4,
   "metadata": {},
   "outputs": [
    {
     "data": {
      "text/plain": [
       "[<matplotlib.lines.Line2D at 0x7fb05f2609a0>]"
      ]
     },
     "execution_count": 4,
     "metadata": {},
     "output_type": "execute_result"
    },
    {
     "data": {
      "image/png": "[encoded data removed]",
      "text/plain": [
       "<Figure size 600x500 with 1 Axes>"
      ]
     },
     "metadata": {},
     "output_type": "display_data"
    }
   ],
   "source": [
    "\n",
    "fig, ax = plt.subplots(1, 1, figsize=(6, 5))\n",
    "start_day = 15    \n",
    "posterior = epid.posterior.stack(samples=(\"draw\", \"chain\"))\n",
    "ax.plot(list(data), \"o\")\n",
    "ax.plot(simulation_func(None, posterior[\"alpha\"].mean(), posterior[\"beta\"].mean()), \n",
    "                linewidth=3)\n"
   ]
  },
  {
   "cell_type": "code",
   "execution_count": 3,
   "metadata": {},
   "outputs": [
    {
     "ename": "Exception",
     "evalue": "model: ag-group does not exist",
     "output_type": "error",
     "traceback": [
      "\u001b[0;31m---------------------------------------------------------------------------\u001b[0m",
      "\u001b[0;31mException\u001b[0m                                 Traceback (most recent call last)",
      "Cell \u001b[0;32mIn[3], line 3\u001b[0m\n\u001b[1;32m      1\u001b[0m \u001b[38;5;28;01mfrom\u001b[39;00m \u001b[38;5;21;01mmodel_complex\u001b[39;00m \u001b[38;5;28;01mimport\u001b[39;00m FactoryBRModel\n\u001b[0;32m----> 3\u001b[0m BRModel \u001b[38;5;241m=\u001b[39m \u001b[43mFactoryBRModel\u001b[49m\u001b[38;5;241;43m.\u001b[39;49m\u001b[43mget_model\u001b[49m\u001b[43m(\u001b[49m\u001b[38;5;124;43m'\u001b[39;49m\u001b[38;5;124;43mag-group\u001b[39;49m\u001b[38;5;124;43m'\u001b[39;49m\u001b[43m)\u001b[49m\n",
      "File \u001b[0;32m~/model_complex/model_complex/models/FactoryBRModel.py:22\u001b[0m, in \u001b[0;36mFactoryBRModel.get_model\u001b[0;34m(incidence)\u001b[0m\n\u001b[1;32m     19\u001b[0m     \u001b[38;5;241m.\u001b[39m\u001b[38;5;241m.\u001b[39m\u001b[38;5;241m.\u001b[39m\n\u001b[1;32m     21\u001b[0m \u001b[38;5;28;01melse\u001b[39;00m:\n\u001b[0;32m---> 22\u001b[0m     \u001b[38;5;28;01mraise\u001b[39;00m \u001b[38;5;167;01mException\u001b[39;00m(\u001b[38;5;124mf\u001b[39m\u001b[38;5;124m\"\u001b[39m\u001b[38;5;124mmodel: \u001b[39m\u001b[38;5;132;01m{\u001b[39;00mincidence\u001b[38;5;132;01m}\u001b[39;00m\u001b[38;5;124m does not exist\u001b[39m\u001b[38;5;124m\"\u001b[39m)\n",
      "\u001b[0;31mException\u001b[0m: model: ag-group does not exist"
     ]
    }
   ],
   "source": [
    "from model_complex import FactoryBRModel\n",
    "\n",
    "BRModel = FactoryBRModel.get_model('age-group')"
   ]
  },
  {
   "cell_type": "code",
   "execution_count": 2,
   "metadata": {},
   "outputs": [
    {
     "ename": "TypeError",
     "evalue": "AgeGroupBRModel.simulate() missing 4 required positional arguments: 'alpha', 'beta', 'initial_infectious', and 'rho'",
     "output_type": "error",
     "traceback": [
      "\u001b[0;31m---------------------------------------------------------------------------\u001b[0m",
      "\u001b[0;31mTypeError\u001b[0m                                 Traceback (most recent call last)",
      "Cell \u001b[0;32mIn[2], line 1\u001b[0m\n\u001b[0;32m----> 1\u001b[0m \u001b[43mBRModel\u001b[49m\u001b[38;5;241;43m.\u001b[39;49m\u001b[43msimulate\u001b[49m\u001b[43m(\u001b[49m\u001b[43m)\u001b[49m\n",
      "\u001b[0;31mTypeError\u001b[0m: AgeGroupBRModel.simulate() missing 4 required positional arguments: 'alpha', 'beta', 'initial_infectious', and 'rho'"
     ]
    }
   ],
   "source": [
    "BRModel.simulate([1,1], [1,1])"
   ]
  },
  {
   "cell_type": "code",
   "execution_count": null,
   "metadata": {},
   "outputs": [],
   "source": []
  }
 ],
 "metadata": {
  "kernelspec": {
   "display_name": ".venv",
   "language": "python",
   "name": "python3"
  },
  "language_info": {
   "codemirror_mode": {
    "name": "ipython",
    "version": 3
   },
   "file_extension": ".py",
   "mimetype": "text/x-python",
   "name": "python",
   "nbconvert_exporter": "python",
   "pygments_lexer": "ipython3",
   "version": "3.10.12"
  }
 },
 "nbformat": 4,
 "nbformat_minor": 2
}
