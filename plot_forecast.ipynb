{
 "cells": [
  {
   "cell_type": "code",
   "execution_count": 1,
   "metadata": {},
   "outputs": [
    {
     "name": "stderr",
     "output_type": "stream",
     "text": [
      "WARNING (pytensor.tensor.blas): Using NumPy C-API based implementation for BLAS functions.\n"
     ]
    }
   ],
   "source": [
    "from model_complex import Forecats, FactoryBRModel, EpidData, Calibration\n",
    "import matplotlib.pyplot as plt\n",
    "import datetime\n",
    "from sklearn.metrics import r2_score\n",
    "import csv\n",
    "\n",
    "def forecast_plot(type, st_time, end_time, end_prog, city, method):\n",
    "    epid_data = EpidData(city=city, path='./', \n",
    "                    start_time=st_time, end_time=end_time)\n",
    "    epid_data.get_wave_data(regime=type)\n",
    "    data = epid_data.prepare_for_calibration()\n",
    "    rho = epid_data.get_rho()//10\n",
    "    plot_data = epid_data.prepare_for_plot()\n",
    "\n",
    "    if type == 'age':\n",
    "        init_infect = [100, 100]\n",
    "        model = FactoryBRModel.age_group()\n",
    "        label = {0: '0-14 years', 1: '15+ years'}\n",
    "    else:\n",
    "        init_infect = [100]\n",
    "        model = FactoryBRModel.total()\n",
    "        label = {0: 'total'}\n",
    "\n",
    "    calibration = Calibration(init_infect, model, data, rho)\n",
    "\n",
    "    if method == 'mcmc':\n",
    "        alpha, beta = calibration.mcmc_calibration()\n",
    "    else:\n",
    "        alpha, beta = calibration.abc_calibration()\n",
    "\n",
    "    dur = (datetime.datetime.strptime(end_prog, \"%d-%m-%Y\") - datetime.datetime.strptime(end_time, \"%d-%m-%Y\")).days//7\n",
    "\n",
    "    Res = Forecats(data, model, init_infect, alpha, beta, rho, dur).forecast()\n",
    "\n",
    "    color = {0: 'blue', 1: 'orange'}\n",
    "\n",
    "    epid_data = EpidData(city=city, path='./', \n",
    "                    start_time=end_time, end_time=end_prog)\n",
    "    epid_data.get_wave_data(regime=type)\n",
    "    new_plot_data = epid_data.prepare_for_plot()\n",
    "\n",
    "    model.simulate(\n",
    "        alpha=[a.mean() for a in alpha], \n",
    "        beta=[b.mean() for b in beta], \n",
    "        initial_infectious=init_infect, \n",
    "        rho=rho, \n",
    "        modeling_duration=len(data)//len(init_infect)\n",
    "    )\n",
    "\n",
    "    res = model.get_result()\n",
    "\n",
    "    model.simulate(\n",
    "        alpha=[a.mean() for a in alpha], \n",
    "        beta=[b.mean() for b in beta], \n",
    "        initial_infectious=init_infect, \n",
    "        rho=rho, \n",
    "        modeling_duration=(len(data)//len(init_infect) +len(new_plot_data[:,0]))\n",
    "    )\n",
    "\n",
    "    new_res = model.get_result()\n",
    "\n",
    "    return plot_data, new_plot_data, res, new_res, Res\n",
    "\n"
   ]
  },
  {
   "cell_type": "code",
   "execution_count": 2,
   "metadata": {},
   "outputs": [],
   "source": [
    "times = [\n",
    "    ['01-07-2010', '20-01-2011', '30-06-2011'],\n",
    "    ['01-07-2015', '20-01-2016', '30-06-2016'],\n",
    "    ['01-08-2012', '20-03-2013', '30-06-2013'],\n",
    "    ['01-08-2013', '20-03-2014', '30-06-2014'],\n",
    "    ['01-10-2011', '10-04-2012', '30-06-2012']\n",
    "]"
   ]
  },
  {
   "cell_type": "code",
   "execution_count": null,
   "metadata": {},
   "outputs": [
    {
     "name": "stderr",
     "output_type": "stream",
     "text": [
      "Initializing SMC sampler...\n",
      "Sampling 6 chains in 6 jobs\n"
     ]
    },
    {
     "name": "stdout",
     "output_type": "stream",
     "text": [
      "      "
     ]
    },
    {
     "name": "stderr",
     "output_type": "stream",
     "text": [
      "/home/luhter/model_complex/.venv/lib/python3.12/site-packages/arviz/data/base.py:272: UserWarning: More chains (6) than draws (4). Passed array should have shape (chains, draws, *shape)\n",
      "  warnings.warn(\n",
      "/tmp/ipykernel_21537/732450944.py:38: UserWarning: set_ticklabels() should only be used with a fixed number of ticks, i.e. after set_ticks() or using a FixedLocator.\n",
      "  ax.set_xticklabels(date_array, rotation=20)\n",
      "/tmp/ipykernel_21537/732450944.py:38: UserWarning: set_ticklabels() should only be used with a fixed number of ticks, i.e. after set_ticks() or using a FixedLocator.\n",
      "  ax.set_xticklabels(date_array, rotation=20)\n",
      "Initializing SMC sampler...\n",
      "Sampling 6 chains in 6 jobs\n"
     ]
    },
    {
     "name": "stdout",
     "output_type": "stream",
     "text": [
      "      "
     ]
    }
   ],
   "source": [
    "\n",
    "import matplotlib.dates as mdates\n",
    "import numpy as np\n",
    "# import locale\n",
    "# locale.setlocale(locale.LC_TIME, 'ru_RU.UTF-8')\n",
    "\n",
    "\n",
    "\n",
    "for i in range(len(times)):\n",
    "        fig, ax = plt.subplots(figsize=(12,8))\n",
    "        start, end_time, end = times[i]\n",
    "        label_fontsize = 18\n",
    "        tick_fontsize = 16\n",
    "        type = 'age'\n",
    "        city = 'spb'\n",
    "        method = 'abc'\n",
    "\n",
    "        start_date = np.datetime64(f'{start.split(\"-\")[2]}-{start.split(\"-\")[1]}-{start.split(\"-\")[0]}')\n",
    "        end_date = np.datetime64(f'{end.split(\"-\")[2]}-{end.split(\"-\")[1]}-{end.split(\"-\")[0]}')\n",
    "\n",
    "\n",
    "        # Generate an array of dates with a weekly step\n",
    "        date_array = np.arange(start_date, end_date + np.timedelta64(1, 'D'), np.timedelta64(1, 'W'))\n",
    "\n",
    "        plot_data, new_plot_data, res, new_res, Res = forecast_plot(type, start, end_time, end, city, method)\n",
    "        r2 = []\n",
    "        data_lab = {0: '0-14', 1:'15+'}\n",
    "        age_color = {0: 'forestgreen', 1: 'royalblue'}\n",
    "        mod_col = {0: \"crimson\", 1: 'orangered'}\n",
    "        for i in range(2):\n",
    "                actual_data = plot_data[:, i]\n",
    "                forecast_data = new_plot_data[:, i]\n",
    "                actual_data[:14] = [0]*14\n",
    "                forecast_data[:14] = [0]*14\n",
    "                model_curve = new_res[i]\n",
    "                lower_ci = Res[i, :, 0]\n",
    "                upper_ci = Res[i, :, 1]\n",
    "\n",
    "                ax.set_xticklabels(date_array, rotation=20)\n",
    "                ax.xaxis.set_major_locator(mdates.MonthLocator())  # Set major ticks to months\n",
    "                ax.xaxis.set_major_formatter(mdates.DateFormatter('%b %Y'))  # Format ticks as 'Month Year'\n",
    "                # ax.set_ylim([-50, 35000])\n",
    "                ax.tick_params(axis='both', which='major', labelsize=tick_fontsize)\n",
    "                ax.set_ylabel('Заболеваемость, случаи', fontsize=label_fontsize)\n",
    "\n",
    "                ax.plot(date_array[:len(actual_data)], actual_data, '--o', color=age_color[i], label='Доступные данные ' + data_lab[i])\n",
    "                ax.fill_between(date_array[len(actual_data):-1], lower_ci[len(actual_data):], \n",
    "                                upper_ci[len(actual_data):], color=age_color[i], alpha=0.3, label='Доверительный интервал ' + data_lab[i])\n",
    "                ax.plot(date_array[len(actual_data):-1], forecast_data, '--o', color=age_color[i], \n",
    "                        alpha=0.6, label='Прогнозируемые данные ' + data_lab[i])\n",
    "                r2 += [round(r2_score(actual_data, model_curve[:len(actual_data)]), 2)]\n",
    "                ax.plot(date_array[:-1], model_curve, linewidth=3, label='Модельная кривая ' + data_lab[i], color=age_color[i], alpha=0.8)\n",
    "                ax.legend(fontsize=tick_fontsize)\n",
    "\n",
    "\n",
    "        ax.set_title(r'$R^2' + '_{0-14}' + '={}$'.format(r2[0]) +  '  $R^2' + '_{15+}' +'={}$'.format(r2[1]), fontsize=label_fontsize)\n",
    "\n",
    "\n",
    "        fig.savefig(r'Fplots/forecast_total_abc_{}-{}.png'.format(str(start_date), str(end_date)), dpi=400, bbox_inches='tight')\n",
    "        fig.savefig(r'Fplots/forecast_total_abc_{}-{}.pdf'.format(str(start_date), str(end_date)), bbox_inches='tight')\n"
   ]
  }
 ],
 "metadata": {
  "kernelspec": {
   "display_name": ".venv",
   "language": "python",
   "name": "python3"
  },
  "language_info": {
   "codemirror_mode": {
    "name": "ipython",
    "version": 3
   },
   "file_extension": ".py",
   "mimetype": "text/x-python",
   "name": "python",
   "nbconvert_exporter": "python",
   "pygments_lexer": "ipython3",
   "version": "3.12.3"
  }
 },
 "nbformat": 4,
 "nbformat_minor": 2
}
